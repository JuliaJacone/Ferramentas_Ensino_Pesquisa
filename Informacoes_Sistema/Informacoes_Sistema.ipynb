{
 "cells": [
  {
   "cell_type": "markdown",
   "metadata": {
    "id": "uhfUc1C8YCTz"
   },
   "source": [
    "# Informações sobre Sistema"
   ]
  },
  {
   "cell_type": "markdown",
   "metadata": {
    "id": "oB3hCHe3YCT8"
   },
   "source": [
    "Autoria : [Roberto Colistete Júnior](https://github.com/rcolistete)\n",
    "\n",
    "Última atualização : 14/02/2021"
   ]
  },
  {
   "cell_type": "markdown",
   "metadata": {
    "id": "1jRmdu9TYCT9"
   },
   "source": [
    "Versão usando comandos compatíveis com todos os sistemas operacionais : Linux, Mac OS e Windows.\n",
    "\n",
    "Tal compatibilidade se faz evitando comandos específicos de Linux/Mac OS, em detrimento de ter informações mais detalhadas."
   ]
  },
  {
   "cell_type": "markdown",
   "metadata": {},
   "source": [
    "É importante listar as informações de sistema computacional em termos de hardware e software para :\n",
    "- confirmar se certo recurso de software, lançado a partir de certa versão, está disponível;\n",
    "- ver os requerimentos mínimos :\n",
    "  * de softwares, que podem depender de versões mínimas de outros softwares (dependências);\n",
    "  * hardware, como existência de GPU (Graphical Processing Unit, placa-de-vídeo), versão mínima da Compute Capability da GPU para acesso a certo recurso, RAM mínima na CPU ou GPU para rodar certa aplicação, etc;\n",
    "- ao fazer comparações de desempenho (benchmark) de execução de software, seja conhecida a configuração utilizada que normalmente afeta em muito o desempenho."
   ]
  },
  {
   "cell_type": "markdown",
   "metadata": {
    "heading_collapsed": true,
    "id": "yoBCniRUYCT9"
   },
   "source": [
    "## Informações sobre arquitetura de hardware e sistema operacional do computador"
   ]
  },
  {
   "cell_type": "markdown",
   "metadata": {
    "hidden": true,
    "id": "NYspq6H5YCT-"
   },
   "source": [
    "O [módulo Pyton \"platform\"](https://pymotw.com/2/platform/) fornece diversas informações do sistema (computador, sistema operacional, Python, etc)."
   ]
  },
  {
   "cell_type": "code",
   "execution_count": null,
   "metadata": {
    "ExecuteTime": {
     "end_time": "2021-02-13T22:15:30.473190Z",
     "start_time": "2021-02-13T22:15:30.468440Z"
    },
    "hidden": true,
    "id": "7X8lMpY_YCT-"
   },
   "outputs": [],
   "source": [
    "import platform"
   ]
  },
  {
   "cell_type": "markdown",
   "metadata": {
    "hidden": true,
    "id": "v3p1vvRFYCT_"
   },
   "source": [
    "Nome do sistema operacional :"
   ]
  },
  {
   "cell_type": "code",
   "execution_count": null,
   "metadata": {
    "ExecuteTime": {
     "end_time": "2021-02-13T22:15:32.108794Z",
     "start_time": "2021-02-13T22:15:32.027447Z"
    },
    "colab": {
     "base_uri": "https://localhost:8080/",
     "height": 35
    },
    "hidden": true,
    "id": "CIIT4rGNYCT_",
    "outputId": "205ccbde-e370-463d-b094-78cf42bb2aa2"
   },
   "outputs": [],
   "source": [
    "platform.platform()"
   ]
  },
  {
   "cell_type": "markdown",
   "metadata": {
    "hidden": true,
    "id": "btVRSoLoYCUB"
   },
   "source": [
    "Mais detalhes, como nome do computador na rede (node), arquitetura de hardware (32/64 bits), etc :"
   ]
  },
  {
   "cell_type": "code",
   "execution_count": null,
   "metadata": {
    "ExecuteTime": {
     "end_time": "2021-02-13T22:15:33.402195Z",
     "start_time": "2021-02-13T22:15:33.396629Z"
    },
    "colab": {
     "base_uri": "https://localhost:8080/"
    },
    "hidden": true,
    "id": "q0gMF-tWYCUB",
    "outputId": "41d116be-eb38-4b84-80c9-bc7788364e03"
   },
   "outputs": [],
   "source": [
    "platform.uname()"
   ]
  },
  {
   "cell_type": "markdown",
   "metadata": {
    "heading_collapsed": true,
    "id": "EAOI7UXifILQ"
   },
   "source": [
    "## Informações sobre versão de Python e alguns módulos"
   ]
  },
  {
   "cell_type": "markdown",
   "metadata": {
    "hidden": true
   },
   "source": [
    "Lembrando que Python tem vários milhares de módulos extras que podem ser instalados, vide [PyPI - Python Package Index](https://pypi.org/) com uns 300 mil projetos atualmente, logo a lista abaixo é somente uma escolha de módulos mais populares para certas aplicações."
   ]
  },
  {
   "cell_type": "markdown",
   "metadata": {
    "heading_collapsed": true,
    "hidden": true,
    "id": "XXy1F87KYCUC"
   },
   "source": [
    "### Python"
   ]
  },
  {
   "cell_type": "markdown",
   "metadata": {
    "hidden": true,
    "id": "AArlEBiGfILn"
   },
   "source": [
    "Número da versão de [Python](https://www.python.org/) :"
   ]
  },
  {
   "cell_type": "code",
   "execution_count": null,
   "metadata": {
    "ExecuteTime": {
     "end_time": "2021-02-13T22:15:36.762165Z",
     "start_time": "2021-02-13T22:15:36.757270Z"
    },
    "colab": {
     "base_uri": "https://localhost:8080/",
     "height": 35
    },
    "hidden": true,
    "id": "FcE_k9jMYCUD",
    "outputId": "c1d3eadc-634b-48bf-9d87-b6820bc42176"
   },
   "outputs": [],
   "source": [
    "platform.python_version()"
   ]
  },
  {
   "cell_type": "markdown",
   "metadata": {
    "hidden": true,
    "id": "SS3DkBIxYCUD"
   },
   "source": [
    "data da versão :"
   ]
  },
  {
   "cell_type": "code",
   "execution_count": null,
   "metadata": {
    "ExecuteTime": {
     "end_time": "2021-02-13T22:15:37.819557Z",
     "start_time": "2021-02-13T22:15:37.809483Z"
    },
    "colab": {
     "base_uri": "https://localhost:8080/"
    },
    "hidden": true,
    "id": "Ga5mz5PbYCUD",
    "outputId": "34121913-f9ea-45f0-c9a7-2cf203d86233"
   },
   "outputs": [],
   "source": [
    "platform.python_build()"
   ]
  },
  {
   "cell_type": "markdown",
   "metadata": {
    "hidden": true,
    "id": "XA_0oU4vYCUE"
   },
   "source": [
    "compilador C/C++ utilizado para criar tal versão de Python :"
   ]
  },
  {
   "cell_type": "code",
   "execution_count": null,
   "metadata": {
    "ExecuteTime": {
     "end_time": "2021-02-13T22:15:40.501057Z",
     "start_time": "2021-02-13T22:15:40.496990Z"
    },
    "colab": {
     "base_uri": "https://localhost:8080/",
     "height": 35
    },
    "hidden": true,
    "id": "wSKcb6BQYCUE",
    "outputId": "fd92d69c-1a7b-407a-d696-75245ac528a3"
   },
   "outputs": [],
   "source": [
    "platform.python_compiler()"
   ]
  },
  {
   "cell_type": "markdown",
   "metadata": {
    "heading_collapsed": true,
    "hidden": true,
    "id": "7OXoBeTgYCUF"
   },
   "source": [
    "### NumPy"
   ]
  },
  {
   "cell_type": "markdown",
   "metadata": {
    "hidden": true,
    "id": "kMKtbq_tfILt"
   },
   "source": [
    "Versão de [NumPy](https://numpy.org/), onde 'np' é um apelido comum :"
   ]
  },
  {
   "cell_type": "code",
   "execution_count": null,
   "metadata": {
    "ExecuteTime": {
     "end_time": "2021-02-13T22:15:42.707902Z",
     "start_time": "2021-02-13T22:15:42.597706Z"
    },
    "hidden": true,
    "id": "H7d2xvYFYCUF"
   },
   "outputs": [],
   "source": [
    "import numpy as np"
   ]
  },
  {
   "cell_type": "code",
   "execution_count": null,
   "metadata": {
    "ExecuteTime": {
     "end_time": "2021-02-13T22:15:43.169825Z",
     "start_time": "2021-02-13T22:15:43.165426Z"
    },
    "colab": {
     "base_uri": "https://localhost:8080/",
     "height": 35
    },
    "hidden": true,
    "id": "hFxDTbsefILu",
    "outputId": "614afad5-3922-4fa8-d626-cd08b8e20b61"
   },
   "outputs": [],
   "source": [
    "np.__version__"
   ]
  },
  {
   "cell_type": "markdown",
   "metadata": {
    "heading_collapsed": true,
    "hidden": true,
    "id": "J3W707iTYCUG"
   },
   "source": [
    "### MatPlotLib"
   ]
  },
  {
   "cell_type": "markdown",
   "metadata": {
    "hidden": true,
    "id": "MJfGcKSOYCUG"
   },
   "source": [
    "Versão de [MatPlotLib](https://matplotlib.org/), onde 'mpl' é um apelido comum :"
   ]
  },
  {
   "cell_type": "code",
   "execution_count": null,
   "metadata": {
    "ExecuteTime": {
     "end_time": "2021-02-13T22:15:46.370034Z",
     "start_time": "2021-02-13T22:15:46.272056Z"
    },
    "hidden": true,
    "id": "E8FqwZjsYCUG"
   },
   "outputs": [],
   "source": [
    "import matplotlib as mpl"
   ]
  },
  {
   "cell_type": "code",
   "execution_count": null,
   "metadata": {
    "ExecuteTime": {
     "end_time": "2021-02-13T22:15:46.758791Z",
     "start_time": "2021-02-13T22:15:46.754028Z"
    },
    "colab": {
     "base_uri": "https://localhost:8080/",
     "height": 35
    },
    "hidden": true,
    "id": "AY5osSIyYCUH",
    "outputId": "6bc1201f-7d87-4711-bd68-e1b3f6169fe0"
   },
   "outputs": [],
   "source": [
    "mpl.__version__"
   ]
  },
  {
   "cell_type": "markdown",
   "metadata": {
    "heading_collapsed": true,
    "hidden": true
   },
   "source": [
    "### SymPy"
   ]
  },
  {
   "cell_type": "markdown",
   "metadata": {
    "hidden": true
   },
   "source": [
    "Versão de [SymPy](https://www.sympy.org/), onde 'sp' é um apelido comum :"
   ]
  },
  {
   "cell_type": "code",
   "execution_count": null,
   "metadata": {
    "ExecuteTime": {
     "end_time": "2021-02-14T21:07:48.243733Z",
     "start_time": "2021-02-14T21:07:47.878722Z"
    },
    "hidden": true
   },
   "outputs": [],
   "source": [
    "import sympy as sp"
   ]
  },
  {
   "cell_type": "code",
   "execution_count": null,
   "metadata": {
    "ExecuteTime": {
     "end_time": "2021-02-14T21:07:54.926780Z",
     "start_time": "2021-02-14T21:07:54.913321Z"
    },
    "hidden": true
   },
   "outputs": [],
   "source": [
    "sp.__version__"
   ]
  },
  {
   "cell_type": "markdown",
   "metadata": {
    "heading_collapsed": true,
    "hidden": true,
    "id": "4CnUNuCZYCUH"
   },
   "source": [
    "### Pandas"
   ]
  },
  {
   "cell_type": "markdown",
   "metadata": {
    "hidden": true
   },
   "source": [
    "Versão de [Pandas](https://pandas.pydata.org/), onde 'pd' é um apelido comum :"
   ]
  },
  {
   "cell_type": "code",
   "execution_count": null,
   "metadata": {
    "ExecuteTime": {
     "end_time": "2021-02-13T22:15:48.090554Z",
     "start_time": "2021-02-13T22:15:47.873883Z"
    },
    "hidden": true,
    "id": "9kF-EXwkYCUH"
   },
   "outputs": [],
   "source": [
    "import pandas as pd"
   ]
  },
  {
   "cell_type": "code",
   "execution_count": null,
   "metadata": {
    "ExecuteTime": {
     "end_time": "2021-02-13T22:15:48.296346Z",
     "start_time": "2021-02-13T22:15:48.290698Z"
    },
    "colab": {
     "base_uri": "https://localhost:8080/",
     "height": 35
    },
    "hidden": true,
    "id": "R0dBGNtyYCUI",
    "outputId": "1c96e4d8-e46d-4ffb-85d1-5355cfa77bc8"
   },
   "outputs": [],
   "source": [
    "pd.__version__"
   ]
  },
  {
   "cell_type": "markdown",
   "metadata": {
    "heading_collapsed": true,
    "hidden": true,
    "id": "gW0eGj3kYCUI"
   },
   "source": [
    "### Bokeh"
   ]
  },
  {
   "cell_type": "markdown",
   "metadata": {
    "hidden": true
   },
   "source": [
    "Versão de [Bokeh](https://bokeh.org/), onde 'bk' é um apelido comum :"
   ]
  },
  {
   "cell_type": "code",
   "execution_count": null,
   "metadata": {
    "ExecuteTime": {
     "end_time": "2021-02-13T22:15:49.598841Z",
     "start_time": "2021-02-13T22:15:49.547898Z"
    },
    "hidden": true,
    "id": "Ixy7nTNEYCUI"
   },
   "outputs": [],
   "source": [
    "import bokeh as bk"
   ]
  },
  {
   "cell_type": "code",
   "execution_count": null,
   "metadata": {
    "ExecuteTime": {
     "end_time": "2021-02-13T22:15:50.022739Z",
     "start_time": "2021-02-13T22:15:50.014074Z"
    },
    "colab": {
     "base_uri": "https://localhost:8080/",
     "height": 35
    },
    "hidden": true,
    "id": "1ZuVFy3AYCUI",
    "outputId": "682bd8c3-99af-40de-fb51-218cf78a7a9f"
   },
   "outputs": [],
   "source": [
    "bk.__version__"
   ]
  },
  {
   "cell_type": "markdown",
   "metadata": {
    "heading_collapsed": true,
    "hidden": true,
    "id": "gW0eGj3kYCUI"
   },
   "source": [
    "### Holoviews"
   ]
  },
  {
   "cell_type": "markdown",
   "metadata": {
    "hidden": true
   },
   "source": [
    "Versão de [Holoviews](https://holoviews.org/), onde 'hv' é um apelido comum :"
   ]
  },
  {
   "cell_type": "code",
   "execution_count": null,
   "metadata": {
    "ExecuteTime": {
     "end_time": "2021-02-13T22:18:06.367012Z",
     "start_time": "2021-02-13T22:18:06.357116Z"
    },
    "hidden": true,
    "id": "Ixy7nTNEYCUI"
   },
   "outputs": [],
   "source": [
    "import holoviews as hv"
   ]
  },
  {
   "cell_type": "code",
   "execution_count": null,
   "metadata": {
    "ExecuteTime": {
     "end_time": "2021-02-13T22:18:07.183112Z",
     "start_time": "2021-02-13T22:18:07.169883Z"
    },
    "colab": {
     "base_uri": "https://localhost:8080/",
     "height": 35
    },
    "hidden": true,
    "id": "1ZuVFy3AYCUI",
    "outputId": "682bd8c3-99af-40de-fb51-218cf78a7a9f"
   },
   "outputs": [],
   "source": [
    "hv.__version__"
   ]
  },
  {
   "cell_type": "markdown",
   "metadata": {
    "heading_collapsed": true,
    "hidden": true,
    "id": "jPpWdqpiYCUJ"
   },
   "source": [
    "### Seaborn"
   ]
  },
  {
   "cell_type": "markdown",
   "metadata": {
    "hidden": true
   },
   "source": [
    "Versão de [Seaborn](https://seaborn.pydata.org/), onde 'sns' é um apelido comum :"
   ]
  },
  {
   "cell_type": "code",
   "execution_count": null,
   "metadata": {
    "ExecuteTime": {
     "end_time": "2021-02-13T22:15:51.731887Z",
     "start_time": "2021-02-13T22:15:51.145071Z"
    },
    "hidden": true,
    "id": "TEGgA_oQYCUJ"
   },
   "outputs": [],
   "source": [
    "import seaborn as sns"
   ]
  },
  {
   "cell_type": "code",
   "execution_count": null,
   "metadata": {
    "ExecuteTime": {
     "end_time": "2021-02-13T22:15:51.740439Z",
     "start_time": "2021-02-13T22:15:51.735331Z"
    },
    "colab": {
     "base_uri": "https://localhost:8080/",
     "height": 35
    },
    "hidden": true,
    "id": "81kEQCUoYCUJ",
    "outputId": "37bc9763-51e2-4520-c2af-bd3eca38f890"
   },
   "outputs": [],
   "source": [
    "sns.__version__"
   ]
  },
  {
   "cell_type": "markdown",
   "metadata": {
    "heading_collapsed": true,
    "hidden": true,
    "id": "11orBpx0YCUK"
   },
   "source": [
    "### Numba"
   ]
  },
  {
   "cell_type": "markdown",
   "metadata": {
    "hidden": true,
    "id": "OaJcG_kUYCUK"
   },
   "source": [
    "Versão de [Numba](https://numba.pydata.org/), onde 'nb' é um apelido comum :"
   ]
  },
  {
   "cell_type": "code",
   "execution_count": null,
   "metadata": {
    "ExecuteTime": {
     "end_time": "2021-02-13T22:15:57.201080Z",
     "start_time": "2021-02-13T22:15:56.791733Z"
    },
    "hidden": true,
    "id": "uGukE_21YCUK"
   },
   "outputs": [],
   "source": [
    "import numba as nb"
   ]
  },
  {
   "cell_type": "code",
   "execution_count": null,
   "metadata": {
    "ExecuteTime": {
     "end_time": "2021-02-13T22:15:57.257947Z",
     "start_time": "2021-02-13T22:15:57.245996Z"
    },
    "colab": {
     "base_uri": "https://localhost:8080/",
     "height": 35
    },
    "hidden": true,
    "id": "bhWU0p9OYCUK",
    "outputId": "8595c26e-e896-4002-9984-dc96afa051ab"
   },
   "outputs": [],
   "source": [
    "nb.__version__"
   ]
  },
  {
   "cell_type": "markdown",
   "metadata": {
    "hidden": true,
    "id": "J0Uz58oNYCUL"
   },
   "source": [
    "Número default de threads, disponíveis para paralelismo de CPU com Numba :"
   ]
  },
  {
   "cell_type": "code",
   "execution_count": null,
   "metadata": {
    "ExecuteTime": {
     "end_time": "2021-02-13T22:15:58.405902Z",
     "start_time": "2021-02-13T22:15:58.395374Z"
    },
    "colab": {
     "base_uri": "https://localhost:8080/"
    },
    "hidden": true,
    "id": "FaOj5trCYCUL",
    "outputId": "d6034879-93da-4e7a-e349-416a63f32d2f"
   },
   "outputs": [],
   "source": [
    "nb.config.NUMBA_DEFAULT_NUM_THREADS"
   ]
  },
  {
   "cell_type": "markdown",
   "metadata": {
    "heading_collapsed": true,
    "id": "4nGz3CdEYCUL"
   },
   "source": [
    "## Informação sobre GPU/CUDA"
   ]
  },
  {
   "cell_type": "markdown",
   "metadata": {
    "heading_collapsed": true,
    "hidden": true,
    "id": "HscPTr75bf7a"
   },
   "source": [
    "### Via Numba"
   ]
  },
  {
   "cell_type": "markdown",
   "metadata": {
    "hidden": true,
    "id": "K190pVS0YCUM"
   },
   "source": [
    "Precisa ter [CUDA](https://developer.nvidia.com/cuda-zone) e [Numba](https://numba.pydata.org/) instalados."
   ]
  },
  {
   "cell_type": "code",
   "execution_count": null,
   "metadata": {
    "ExecuteTime": {
     "end_time": "2021-02-13T22:16:01.206851Z",
     "start_time": "2021-02-13T22:16:01.172146Z"
    },
    "hidden": true,
    "id": "HTarzI_2YCUM"
   },
   "outputs": [],
   "source": [
    "from numba import cuda"
   ]
  },
  {
   "cell_type": "markdown",
   "metadata": {
    "hidden": true,
    "id": "pWm2TC19YCUM"
   },
   "source": [
    "Testa se CUDA está disponível, i. e., se tem GPU e se software CUDA foi instalado :"
   ]
  },
  {
   "cell_type": "code",
   "execution_count": null,
   "metadata": {
    "ExecuteTime": {
     "end_time": "2021-02-13T22:16:02.312451Z",
     "start_time": "2021-02-13T22:16:02.284631Z"
    },
    "colab": {
     "base_uri": "https://localhost:8080/"
    },
    "hidden": true,
    "id": "SZSsM-2JYCUN",
    "outputId": "c1f061ff-0bdb-4f76-95f2-c3ad324621d0"
   },
   "outputs": [],
   "source": [
    "cuda.is_available()"
   ]
  },
  {
   "cell_type": "markdown",
   "metadata": {
    "hidden": true,
    "id": "jh5mpjSHYCUN"
   },
   "source": [
    "Mostra identificação (começa de zero) da GPU, nome da GPU, CC (Compute Capability), etc :"
   ]
  },
  {
   "cell_type": "code",
   "execution_count": null,
   "metadata": {
    "ExecuteTime": {
     "end_time": "2021-02-13T22:16:03.691924Z",
     "start_time": "2021-02-13T22:16:03.480674Z"
    },
    "colab": {
     "base_uri": "https://localhost:8080/"
    },
    "hidden": true,
    "id": "EpYstlICYCUN",
    "outputId": "93e50b0a-c191-4f37-c2cd-b95c6e13cad7"
   },
   "outputs": [],
   "source": [
    "cuda.detect()"
   ]
  },
  {
   "cell_type": "markdown",
   "metadata": {
    "hidden": true,
    "id": "nyYHXh30YCUO"
   },
   "source": [
    "Mostra RAM livre e total da GPU com identificação 0 (zero), em bytes :"
   ]
  },
  {
   "cell_type": "code",
   "execution_count": null,
   "metadata": {
    "ExecuteTime": {
     "end_time": "2021-02-13T22:16:06.190389Z",
     "start_time": "2021-02-13T22:16:06.168777Z"
    },
    "colab": {
     "base_uri": "https://localhost:8080/"
    },
    "hidden": true,
    "id": "CHSO8ZHsYCUO",
    "outputId": "9d6080fb-6986-416b-83da-1e6a38ce2da8"
   },
   "outputs": [],
   "source": [
    "cuda.current_context(0).get_memory_info()"
   ]
  },
  {
   "cell_type": "markdown",
   "metadata": {
    "heading_collapsed": true,
    "hidden": true,
    "id": "GW97POdgboUj"
   },
   "source": [
    "### Via CuPy"
   ]
  },
  {
   "cell_type": "markdown",
   "metadata": {
    "hidden": true
   },
   "source": [
    "Versão de [CuPy](https://cupy.dev/), onde 'cp' é um apelido comum :"
   ]
  },
  {
   "cell_type": "code",
   "execution_count": null,
   "metadata": {
    "ExecuteTime": {
     "end_time": "2021-02-13T22:16:07.415868Z",
     "start_time": "2021-02-13T22:16:07.404711Z"
    },
    "hidden": true,
    "id": "jIKy9FoXYvOj"
   },
   "outputs": [],
   "source": [
    "import cupy as cp"
   ]
  },
  {
   "cell_type": "markdown",
   "metadata": {
    "hidden": true,
    "id": "07t3TmKLczHc"
   },
   "source": [
    "Versão de CuPy :"
   ]
  },
  {
   "cell_type": "code",
   "execution_count": null,
   "metadata": {
    "ExecuteTime": {
     "end_time": "2021-02-13T22:16:08.460168Z",
     "start_time": "2021-02-13T22:16:08.441113Z"
    },
    "colab": {
     "base_uri": "https://localhost:8080/",
     "height": 35
    },
    "hidden": true,
    "id": "ymox0P6baVJv",
    "outputId": "218d7faf-3043-4b35-eb48-675fca22e71b"
   },
   "outputs": [],
   "source": [
    "cp.__version__"
   ]
  },
  {
   "cell_type": "markdown",
   "metadata": {
    "hidden": true,
    "id": "0LUWhoX3c3R4"
   },
   "source": [
    "Mostra RAM livre e total da GPU sendo usada por CuPy, em bytes :"
   ]
  },
  {
   "cell_type": "code",
   "execution_count": null,
   "metadata": {
    "ExecuteTime": {
     "end_time": "2021-02-13T22:16:09.561593Z",
     "start_time": "2021-02-13T22:16:09.544328Z"
    },
    "colab": {
     "base_uri": "https://localhost:8080/"
    },
    "hidden": true,
    "id": "lV8nGBbqaoG0",
    "outputId": "bcf358d3-efdb-4de9-9c28-d2b12fa4e824"
   },
   "outputs": [],
   "source": [
    "cp.cuda.runtime.memGetInfo()"
   ]
  }
 ],
 "metadata": {
  "accelerator": "GPU",
  "colab": {
   "collapsed_sections": [
    "yoBCniRUYCT9",
    "XXy1F87KYCUC",
    "7OXoBeTgYCUF",
    "J3W707iTYCUG",
    "4CnUNuCZYCUH",
    "gW0eGj3kYCUI",
    "jPpWdqpiYCUJ",
    "11orBpx0YCUK",
    "4nGz3CdEYCUL",
    "HscPTr75bf7a",
    "GW97POdgboUj"
   ],
   "name": "Informacoes_Sistema.ipynb",
   "provenance": []
  },
  "kernelspec": {
   "display_name": "Python 3",
   "language": "python",
   "name": "python3"
  },
  "language_info": {
   "codemirror_mode": {
    "name": "ipython",
    "version": 3
   },
   "file_extension": ".py",
   "mimetype": "text/x-python",
   "name": "python",
   "nbconvert_exporter": "python",
   "pygments_lexer": "ipython3",
   "version": "3.8.3"
  }
 },
 "nbformat": 4,
 "nbformat_minor": 1
}
